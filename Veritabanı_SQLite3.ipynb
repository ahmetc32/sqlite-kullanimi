{
  "nbformat": 4,
  "nbformat_minor": 0,
  "metadata": {
    "colab": {
      "name": "Veritabanı_SQLite3.ipynb",
      "provenance": []
    },
    "kernelspec": {
      "name": "python3",
      "display_name": "Python 3"
    },
    "language_info": {
      "name": "python"
    }
  },
  "cells": [
    {
      "cell_type": "markdown",
      "metadata": {
        "id": "8_v6pzo3aDNA"
      },
      "source": [
        "**Veritabanı Kullanımı**\n",
        "\n",
        "* SQLite3 modülü Python 2.5 sürümünden beri desteklenmektedir. Küçük, basit ve hızlı bir veritabanıdır.\n",
        "* SQLite veritabanını görsel olarak incelemek ve manuel işlem yapmak için SQLite DB Browser https://sqlitebrowser.org/dl/\n"
      ]
    },
    {
      "cell_type": "code",
      "metadata": {
        "id": "_SLxCDMpZoLe"
      },
      "source": [
        "import sqlite3"
      ],
      "execution_count": 1,
      "outputs": []
    },
    {
      "cell_type": "code",
      "metadata": {
        "id": "bXDPQZ2oZ0pN"
      },
      "source": [
        "# veritabanı bağlantısı, eğer veri.db isimli bir veritabanı yoksa oluşturur\n",
        "baglanti = sqlite3.connect(\"data.db\")"
      ],
      "execution_count": 2,
      "outputs": []
    },
    {
      "cell_type": "code",
      "metadata": {
        "id": "BTAm9mbIacbc"
      },
      "source": [
        "# veritabanı üzerinde işlem yapmak için cursor oluşturma\n",
        "imlec = baglanti.cursor()"
      ],
      "execution_count": 3,
      "outputs": []
    },
    {
      "cell_type": "markdown",
      "metadata": {
        "id": "aB3IDCHZe1K3"
      },
      "source": [
        "**CRUD işlemleri** (Create - Read - Update - Delete)"
      ]
    },
    {
      "cell_type": "code",
      "metadata": {
        "id": "9ouj5k4he4PH",
        "colab": {
          "base_uri": "https://localhost:8080/"
        },
        "outputId": "ac60dfd6-bb5c-4e60-8075-73715d3093bd"
      },
      "source": [
        "# CREATE tablo oluşturma\n",
        "imlec.execute(\"\"\"CREATE TABLE ogrenciler(ogr_no INTEGER ,ogr_adi TEXT,ogr_soyadi TEXT,ogr_bolum TEXT, puan INTEGER)\"\"\")\n"
      ],
      "execution_count": 4,
      "outputs": [
        {
          "output_type": "execute_result",
          "data": {
            "text/plain": [
              "<sqlite3.Cursor at 0x7f4b35eda2d0>"
            ]
          },
          "metadata": {},
          "execution_count": 4
        }
      ]
    },
    {
      "cell_type": "code",
      "metadata": {
        "colab": {
          "base_uri": "https://localhost:8080/"
        },
        "id": "mL1OydgvgaJb",
        "outputId": "d5a80db1-d52e-4910-d2b4-ef6d6c264736"
      },
      "source": [
        " # CREATE TABLE IF NOT EXISTS      eğer tablo mevcut değil ise oluştur\n",
        " imlec.execute(\"\"\"CREATE TABLE IF NOT EXISTS ogrenciler(ogr_no INTEGER ,ogr_adi TEXT,ogr_soyadi TEXT,ogr_bolum TEXT, puan INTEGER)\"\"\")\n"
      ],
      "execution_count": null,
      "outputs": [
        {
          "output_type": "execute_result",
          "data": {
            "text/plain": [
              "<sqlite3.Cursor at 0x7ff5da6d8880>"
            ]
          },
          "metadata": {},
          "execution_count": 4
        }
      ]
    },
    {
      "cell_type": "code",
      "metadata": {
        "colab": {
          "base_uri": "https://localhost:8080/"
        },
        "id": "ghc9QkZ1gAL_",
        "outputId": "5b08149d-447a-4b19-867b-254590727294"
      },
      "source": [
        "# INSERT tabloya kayıt ekleme\n",
        "imlec.execute(\"\"\"INSERT INTO ogrenciler VALUES(54,\"Arda\",\"TUNCA\",\"Bilgisayar Mühendisliği\",45) \"\"\")\n",
        "imlec.execute(\"\"\"INSERT INTO ogrenciler VALUES(22,\"Ceren\",\"Bylms\",\"Bilgisayar Mühendisliği\",95) \"\"\")\n",
        "imlec.execute(\"\"\"INSERT INTO ogrenciler VALUES(39,\"Ceylin\",\"Bylms\",\"Yazılım Mühendisliği\",75) \"\"\")\n",
        "imlec.execute(\"\"\"INSERT INTO ogrenciler VALUES(34,\"Kuzey\",\"Komsu\",\"Yazılım Mühendisliği\",50) \"\"\")"
      ],
      "execution_count": 5,
      "outputs": [
        {
          "output_type": "execute_result",
          "data": {
            "text/plain": [
              "<sqlite3.Cursor at 0x7f4b35eda2d0>"
            ]
          },
          "metadata": {},
          "execution_count": 5
        }
      ]
    },
    {
      "cell_type": "code",
      "metadata": {
        "id": "-I9PPQWCg4in"
      },
      "source": [
        "# veritabanında yapılan değişiklikleri kaydetme\n",
        "baglanti.commit()"
      ],
      "execution_count": 6,
      "outputs": []
    },
    {
      "cell_type": "code",
      "metadata": {
        "id": "vkhUqNMehJyi"
      },
      "source": [
        "# veritabanı kapatma\n",
        "baglanti.close()"
      ],
      "execution_count": 7,
      "outputs": []
    },
    {
      "cell_type": "code",
      "metadata": {
        "id": "gS2so7VkhxVe"
      },
      "source": [
        "# veritabanı kapatma işleminin otomatik yapılması\n",
        "with sqlite3.connect(\"data.db\") as baglanti :\n",
        " \n",
        "    imlec = baglanti.cursor()\n",
        "    imlec.execute(\"\"\"CREATE TABLE IF NOT EXISTS ogrenciler(ogr_no INTEGER ,ogr_adi TEXT,ogr_soyadi TEXT,ogr_bolum TEXT, puan INTEGER)\"\"\")\n",
        "    imlec.execute(\"\"\"INSERT INTO ogrenciler VALUES(11,\"Ali\",\"CAN\",\"Yazılım Mühendisliği\",75) \"\"\")\n",
        "    baglanti.commit()"
      ],
      "execution_count": 8,
      "outputs": []
    },
    {
      "cell_type": "code",
      "metadata": {
        "colab": {
          "base_uri": "https://localhost:8080/"
        },
        "id": "zm21zbfMiJ84",
        "outputId": "bb7211c9-2e35-4ee1-dbe8-6071b5ac22e5"
      },
      "source": [
        "# READ okuma işlemi\n",
        "# SELECT *FROM tablo_adı         * tablodan tüm alanları oku demektir\n",
        "\n",
        "imlec.execute(\"\"\"SELECT *FROM ogrenciler\"\"\")"
      ],
      "execution_count": 9,
      "outputs": [
        {
          "output_type": "execute_result",
          "data": {
            "text/plain": [
              "<sqlite3.Cursor at 0x7f4b31c01ea0>"
            ]
          },
          "metadata": {},
          "execution_count": 9
        }
      ]
    },
    {
      "cell_type": "code",
      "metadata": {
        "colab": {
          "base_uri": "https://localhost:8080/"
        },
        "id": "DZgQC54-mDG0",
        "outputId": "639e7d6e-82b3-4b93-d981-245527cd332d"
      },
      "source": [
        "# 1 - fetchall() Metodu ile tablodaki tüm verileri okuma\n",
        "# 2 - fetchmany() Metodu ile tablodan istenilen kadar veriyi okur\n",
        "# 3 - fetchone()  Meotodu ile tablodan veriler tek tek okunur\n",
        "kayit = imlec.fetchall()\n",
        "print(kayit)"
      ],
      "execution_count": 10,
      "outputs": [
        {
          "output_type": "stream",
          "name": "stdout",
          "text": [
            "[(54, 'Arda', 'TUNCA', 'Bilgisayar Mühendisliği', 45), (22, 'Ceren', 'Bylms', 'Bilgisayar Mühendisliği', 95), (39, 'Ceylin', 'Bylms', 'Yazılım Mühendisliği', 75), (34, 'Kuzey', 'Komsu', 'Yazılım Mühendisliği', 50), (11, 'Ali', 'CAN', 'Yazılım Mühendisliği', 75)]\n"
          ]
        }
      ]
    },
    {
      "cell_type": "code",
      "metadata": {
        "colab": {
          "base_uri": "https://localhost:8080/"
        },
        "id": "ZD2P8_jPmUGz",
        "outputId": "5872c7c2-a8b4-40ca-b34a-232697f15b58"
      },
      "source": [
        "for ogrenci in kayit:\n",
        "    print(ogrenci)"
      ],
      "execution_count": 11,
      "outputs": [
        {
          "output_type": "stream",
          "name": "stdout",
          "text": [
            "(54, 'Arda', 'TUNCA', 'Bilgisayar Mühendisliği', 45)\n",
            "(22, 'Ceren', 'Bylms', 'Bilgisayar Mühendisliği', 95)\n",
            "(39, 'Ceylin', 'Bylms', 'Yazılım Mühendisliği', 75)\n",
            "(34, 'Kuzey', 'Komsu', 'Yazılım Mühendisliği', 50)\n",
            "(11, 'Ali', 'CAN', 'Yazılım Mühendisliği', 75)\n"
          ]
        }
      ]
    },
    {
      "cell_type": "code",
      "metadata": {
        "colab": {
          "base_uri": "https://localhost:8080/"
        },
        "id": "DtuJnm_MiCGE",
        "outputId": "3156718e-5ce3-490b-f26c-f95343bafb8a"
      },
      "source": [
        "#Tablodan belirli alanları okuma\n",
        "imlec.execute(\"\"\"SELECT ogr_adi, ogr_soyadi FROM ogrenciler\"\"\")\n",
        "ogrenciler = imlec.fetchall()\n",
        " \n",
        "for ogrenci in ogrenciler:\n",
        "    print(ogrenci)"
      ],
      "execution_count": null,
      "outputs": [
        {
          "output_type": "stream",
          "name": "stdout",
          "text": [
            "('Arda', 'TUNCA')\n",
            "('Ceren', 'Bylms')\n",
            "('Ceylin', 'Bylms')\n",
            "('Kuzey', 'Komsu')\n"
          ]
        }
      ]
    },
    {
      "cell_type": "code",
      "metadata": {
        "id": "Lhdib6rOmkpS",
        "colab": {
          "base_uri": "https://localhost:8080/"
        },
        "outputId": "5bdf3622-e877-4628-a979-408cdb67ce1a"
      },
      "source": [
        "# Tablodan belirli bir şartı sağlayan veriyi okuyalım\n",
        "imlec.execute(\"\"\"SELECT *FROM ogrenciler WHERE ogr_bolum = 'Bilgisayar Mühendisliği' \"\"\")\n",
        "ogrenciler = imlec.fetchall()\n",
        " \n",
        "for ogrenci in ogrenciler:\n",
        "    print(ogrenci)"
      ],
      "execution_count": null,
      "outputs": [
        {
          "output_type": "stream",
          "name": "stdout",
          "text": [
            "(54, 'Arda', 'TUNCA', 'Bilgisayar Mühendisliği')\n",
            "(22, 'Ceren', 'Bylms', 'Bilgisayar Mühendisliği')\n",
            "(54, 'Arda', 'TUNCA', 'Bilgisayar Mühendisliği')\n",
            "(22, 'Ceren', 'Bylms', 'Bilgisayar Mühendisliği')\n"
          ]
        }
      ]
    },
    {
      "cell_type": "code",
      "metadata": {
        "colab": {
          "base_uri": "https://localhost:8080/"
        },
        "id": "UbseSuzxjBU0",
        "outputId": "3a3a20b5-6ca2-426c-a861-1cba8e974d91"
      },
      "source": [
        "# Tablodan birden fazla şartı sağlayan veriyi okuyalım\n",
        "# Mantıksal Operatörler AND, OR, NOT\n",
        "imlec.execute(\"\"\"SELECT *FROM ogrenciler WHERE ogr_no >35 AND ogr_bolum = 'Bilgisayar Mühendisliği' \"\"\")\n",
        "ogrenciler = imlec.fetchall()\n",
        " \n",
        "for ogrenci in ogrenciler:\n",
        "    print(ogrenci)"
      ],
      "execution_count": null,
      "outputs": [
        {
          "output_type": "stream",
          "name": "stdout",
          "text": [
            "(54, 'Arda', 'TUNCA', 'Bilgisayar Mühendisliği')\n",
            "(54, 'Arda', 'TUNCA', 'Bilgisayar Mühendisliği')\n"
          ]
        }
      ]
    },
    {
      "cell_type": "code",
      "metadata": {
        "colab": {
          "base_uri": "https://localhost:8080/"
        },
        "id": "Qfnuwx2Qj8bx",
        "outputId": "f8f42401-424c-4c1b-a3d9-3996a7cdd1cc"
      },
      "source": [
        "# Tablodan birden fazla şartı sağlayan veriyi okuyalım\n",
        "# IN, NOT IN Operatörler\n",
        "#imlec.execute(\"\"\"SELECT *FROM ogrenciler WHERE ogr_no = 34 OR ogr_no = 39 \"\"\")\n",
        "imlec.execute(\"\"\"SELECT *FROM ogrenciler WHERE ogr_no IN (34,39) \"\"\")\n",
        "ogrenciler = imlec.fetchall()\n",
        " \n",
        "for ogrenci in ogrenciler:\n",
        "    print(ogrenci)"
      ],
      "execution_count": null,
      "outputs": [
        {
          "output_type": "stream",
          "name": "stdout",
          "text": [
            "(39, 'Ceylin', 'Bylms', 'Yazılım Mühendisliği')\n",
            "(34, 'Kuzey', 'Komsu', 'Yazılım Mühendisliği')\n",
            "(39, 'Ceylin', 'Bylms', 'Yazılım Mühendisliği')\n",
            "(34, 'Kuzey', 'Komsu', 'Yazılım Mühendisliği')\n"
          ]
        }
      ]
    },
    {
      "cell_type": "code",
      "metadata": {
        "colab": {
          "base_uri": "https://localhost:8080/"
        },
        "id": "u-DCxSaUmLfu",
        "outputId": "9c4832bb-7acc-43f1-c41f-27c55e818a2c"
      },
      "source": [
        "# BETWEEN Operatörü\n",
        "#imlec.execute(\"\"\"SELECT *FROM ogrenciler WHERE ogr_no >25 AND ogr_no < 40 \"\"\")\n",
        "imlec.execute(\"\"\"SELECT *FROM ogrenciler WHERE ogr_no BETWEEN 25 AND 40 \"\"\")\n",
        "ogrenciler = imlec.fetchall()\n",
        " \n",
        "for ogrenci in ogrenciler:\n",
        "    print(ogrenci)"
      ],
      "execution_count": null,
      "outputs": [
        {
          "output_type": "stream",
          "name": "stdout",
          "text": [
            "(39, 'Ceylin', 'Bylms', 'Yazılım Mühendisliği')\n",
            "(34, 'Kuzey', 'Komsu', 'Yazılım Mühendisliği')\n",
            "(39, 'Ceylin', 'Bylms', 'Yazılım Mühendisliği')\n",
            "(34, 'Kuzey', 'Komsu', 'Yazılım Mühendisliği')\n"
          ]
        }
      ]
    },
    {
      "cell_type": "code",
      "metadata": {
        "colab": {
          "base_uri": "https://localhost:8080/"
        },
        "id": "kQHFx6nrnUXi",
        "outputId": "beb9f15e-f74a-43d2-d73a-2e9bed272939"
      },
      "source": [
        "# LIKE, NOT LIKE Operatörü\n",
        "# Karakter türü alanları üzerinde istenilen karakterlerin sorgulanmasını sağlayan komutlardır. \n",
        "# Anahtar kelime/harf ile birlikte çoğunlukla % işareti kullanılır\n",
        "# Adı C ile başlayan öğrenciler\n",
        "imlec.execute(\"\"\"SELECT *FROM ogrenciler WHERE ogr_adi like \"C%\" \"\"\")\n",
        "ogrenciler = imlec.fetchall()\n",
        " \n",
        "for ogrenci in ogrenciler:\n",
        "    print(ogrenci)"
      ],
      "execution_count": null,
      "outputs": [
        {
          "output_type": "stream",
          "name": "stdout",
          "text": [
            "(22, 'Ceren', 'Bylms', 'Bilgisayar Mühendisliği')\n",
            "(39, 'Ceylin', 'Bylms', 'Yazılım Mühendisliği')\n",
            "(22, 'Ceren', 'Bylms', 'Bilgisayar Mühendisliği')\n",
            "(39, 'Ceylin', 'Bylms', 'Yazılım Mühendisliği')\n"
          ]
        }
      ]
    },
    {
      "cell_type": "code",
      "metadata": {
        "colab": {
          "base_uri": "https://localhost:8080/"
        },
        "id": "YKBLhX-hoV7j",
        "outputId": "78f9c180-2b8d-44bf-90c9-6cb33940b238"
      },
      "source": [
        "# Adında e geçen öğrenciler  % anahtar kelime %\n",
        "#imlec.execute(\"\"\"SELECT *FROM ogrenciler WHERE ogr_adi like \"%e%\" \"\"\")\n",
        "# Adında e geçmeyen öğrenciler\n",
        "imlec.execute(\"\"\"SELECT *FROM ogrenciler WHERE ogr_adi not like \"%e%\" \"\"\")\n",
        "ogrenciler = imlec.fetchall()\n",
        " \n",
        "for ogrenci in ogrenciler:\n",
        "    print(ogrenci)"
      ],
      "execution_count": null,
      "outputs": [
        {
          "output_type": "stream",
          "name": "stdout",
          "text": [
            "(54, 'Arda', 'TUNCA', 'Bilgisayar Mühendisliği')\n",
            "(54, 'Arda', 'TUNCA', 'Bilgisayar Mühendisliği')\n"
          ]
        }
      ]
    },
    {
      "cell_type": "code",
      "metadata": {
        "colab": {
          "base_uri": "https://localhost:8080/"
        },
        "id": "NuBPB1pgo_I4",
        "outputId": "1f8d3045-7d73-475b-81e3-22f39faa15ca"
      },
      "source": [
        "# ORDER BY ile kayıtların sıralanması ASC (Ascending = Artan)  DESC (Descending = Azalan)\n",
        "imlec.execute(\"SELECT * FROM ogrenciler order by ogr_adi desc\")\n",
        "ogrenciler = imlec.fetchall()\n",
        " \n",
        "for ogrenci in ogrenciler:\n",
        "    print(ogrenci)"
      ],
      "execution_count": null,
      "outputs": [
        {
          "output_type": "stream",
          "name": "stdout",
          "text": [
            "(34, 'Kuzey', 'Komsu', 'Yazılım Mühendisliği', 50)\n",
            "(39, 'Ceylin', 'Bylms', 'Yazılım Mühendisliği', 75)\n",
            "(22, 'Ceren', 'Bylms', 'Bilgisayar Mühendisliği', 95)\n",
            "(54, 'Arda', 'TUNCA', 'Bilgisayar Mühendisliği', 45)\n"
          ]
        }
      ]
    },
    {
      "cell_type": "code",
      "metadata": {
        "colab": {
          "base_uri": "https://localhost:8080/"
        },
        "id": "tcPn6KiYrcZx",
        "outputId": "003ae0d9-3fce-4a0c-c746-818f848afd6c"
      },
      "source": [
        "# DISTINCT \n",
        "# Tablolarda belirli alanlarda tekrar eden veriler (birden fazla kayıt) olabilir\n",
        "#imlec.execute(\"SELECT DISTINCT ogr_adi FROM ogrenciler order by ogr_adi desc\")\n",
        "imlec.execute(\"SELECT DISTINCT * FROM ogrenciler order by ogr_adi desc\")\n",
        "ogrenciler = imlec.fetchall()\n",
        " \n",
        "for ogrenci in ogrenciler:\n",
        "    print(ogrenci)"
      ],
      "execution_count": null,
      "outputs": [
        {
          "output_type": "stream",
          "name": "stdout",
          "text": [
            "(34, 'Kuzey', 'Komsu', 'Yazılım Mühendisliği')\n",
            "(39, 'Ceylin', 'Bylms', 'Yazılım Mühendisliği')\n",
            "(22, 'Ceren', 'Bylms', 'Bilgisayar Mühendisliği')\n",
            "(54, 'Arda', 'TUNCA', 'Bilgisayar Mühendisliği')\n"
          ]
        }
      ]
    },
    {
      "cell_type": "code",
      "metadata": {
        "colab": {
          "base_uri": "https://localhost:8080/"
        },
        "id": "pmFhlsIBue6w",
        "outputId": "4d725d4f-94bb-483c-c4dc-13e374536a9c"
      },
      "source": [
        "# KÜMELEME FONKSİYONLARI\n",
        "# SUM, AVG, MIN, MAX, COUNT, \n",
        "imlec.execute(\"SELECT AVG (puan) FROM ogrenciler\")\n",
        "ogrenciler = imlec.fetchone()\n",
        "print(ogrenciler)\n"
      ],
      "execution_count": null,
      "outputs": [
        {
          "output_type": "stream",
          "name": "stdout",
          "text": [
            "(66.25,)\n"
          ]
        }
      ]
    },
    {
      "cell_type": "code",
      "metadata": {
        "colab": {
          "base_uri": "https://localhost:8080/"
        },
        "id": "hrWsa62txtWn",
        "outputId": "ca04c066-3874-4260-b1c3-9659e7d4e8e1"
      },
      "source": [
        "imlec.execute(\"SELECT MAX (puan) FROM ogrenciler\")\n",
        "ogrenciler = imlec.fetchall()\n",
        "print(ogrenciler)"
      ],
      "execution_count": null,
      "outputs": [
        {
          "output_type": "stream",
          "name": "stdout",
          "text": [
            "[(95,)]\n"
          ]
        }
      ]
    },
    {
      "cell_type": "code",
      "metadata": {
        "colab": {
          "base_uri": "https://localhost:8080/"
        },
        "id": "yNJW9okbyT1t",
        "outputId": "ff844537-91fc-4a16-81a4-35eaf41b0ef7"
      },
      "source": [
        "# kayıt sayısını bulma\n",
        "imlec.execute(\"SELECT Count (*) FROM ogrenciler\")\n",
        "#imlec.execute(\"SELECT Count (*) as sayi FROM ogrenciler\")\n",
        "# farklı isimlere sahip kayıt sayısı\n",
        "#imlec.execute(\"SELECT Count (distinct ogr_adi) FROM ogrenciler\")\n",
        "ogrenciler = imlec.fetchall()\n",
        "print(ogrenciler)"
      ],
      "execution_count": null,
      "outputs": [
        {
          "output_type": "stream",
          "name": "stdout",
          "text": [
            "[(4,)]\n"
          ]
        }
      ]
    },
    {
      "cell_type": "code",
      "metadata": {
        "colab": {
          "base_uri": "https://localhost:8080/"
        },
        "id": "H3eJL8xPzIuz",
        "outputId": "3ba28945-2109-44dc-d882-0d8d135d23e4"
      },
      "source": [
        "# Group By Deyimi\n",
        "imlec.execute(\"SELECT ogr_bolum, Count (*) FROM ogrenciler group by ogr_bolum\")\n",
        "ogrenciler = imlec.fetchall()\n",
        "print(ogrenciler)"
      ],
      "execution_count": null,
      "outputs": [
        {
          "output_type": "stream",
          "name": "stdout",
          "text": [
            "[('Bilgisayar Mühendisliği', 2), ('Yazılım Mühendisliği', 2)]\n"
          ]
        }
      ]
    },
    {
      "cell_type": "code",
      "metadata": {
        "colab": {
          "base_uri": "https://localhost:8080/"
        },
        "id": "x7nqvncyzs-N",
        "outputId": "6ee89325-6c89-4ee4-ecbe-299ab2873409"
      },
      "source": [
        "# Having Sözcüğü\n",
        "# Gruplanmış verilerde filtreleme sağlar\n",
        "# her bölümdeki ortalama puanları 50'nin üzerinde olan bölümleri listele\n",
        "imlec.execute(\"SELECT ogr_bolum, avg(puan) FROM ogrenciler group by ogr_bolum having avg(puan) > 50 \")\n",
        "#imlec.execute(\"SELECT ogr_bolum, count(*) FROM ogrenciler group by ogr_bolum having count(*) > 1 \")\n",
        "ogrenciler = imlec.fetchall()\n",
        "print(ogrenciler)"
      ],
      "execution_count": null,
      "outputs": [
        {
          "output_type": "stream",
          "name": "stdout",
          "text": [
            "[('Bilgisayar Mühendisliği', 70.0), ('Yazılım Mühendisliği', 62.5)]\n"
          ]
        }
      ]
    },
    {
      "cell_type": "code",
      "metadata": {
        "colab": {
          "base_uri": "https://localhost:8080/"
        },
        "id": "aK1k7Isv45iM",
        "outputId": "7bfdb28d-977c-4f2c-8a9a-516f99d58c06"
      },
      "source": [
        "# Alias Kullanma   as  \n",
        "# Sütun ya da tablolara kullanıcıların yeni (kısaltma, anlaşılır) isim verme işlemi\n",
        "# kayıt sayısını bulma\n",
        "imlec.execute(\"SELECT Count (*) as sayi FROM ogrenciler\")\n",
        "ogrenciler = imlec.fetchall()\n",
        "print(ogrenciler)"
      ],
      "execution_count": null,
      "outputs": [
        {
          "output_type": "stream",
          "name": "stdout",
          "text": [
            "[(4,)]\n"
          ]
        }
      ]
    },
    {
      "cell_type": "code",
      "metadata": {
        "colab": {
          "base_uri": "https://localhost:8080/"
        },
        "id": "oT8kM2wUqR1f",
        "outputId": "041d90e1-b697-48f0-fd7b-fece30803c85"
      },
      "source": [
        "# UPDATE veri güncelleme işlemi\n",
        "# UPDATE tablo_adi SET = sütun1 = yeni_değer, sütun2 = yeni_değer WHERE koşul\n",
        "imlec.execute(\"\"\"UPDATE ogrenciler SET ogr_no = 34 WHERE ogr_bolum = 'Bilgisayar Mühendisliği' \"\"\")\n"
      ],
      "execution_count": null,
      "outputs": [
        {
          "output_type": "execute_result",
          "data": {
            "text/plain": [
              "<sqlite3.Cursor at 0x7fb7a0814ce0>"
            ]
          },
          "metadata": {},
          "execution_count": 102
        }
      ]
    },
    {
      "cell_type": "code",
      "metadata": {
        "id": "fL1rld5irJsl"
      },
      "source": [
        "imlec.execute(\"\"\"SELECT *FROM ogrenciler\"\"\")\n",
        "kayit = imlec.fetchall()\n",
        "for ogrenci in kayit:\n",
        "    print(ogrenci)"
      ],
      "execution_count": null,
      "outputs": []
    },
    {
      "cell_type": "code",
      "metadata": {
        "colab": {
          "base_uri": "https://localhost:8080/"
        },
        "id": "ViLtb6lY7FKl",
        "outputId": "10e01535-2c08-4db7-a4a3-1737343660a5"
      },
      "source": [
        "# Öğrencilerin puanına 5 ekle\n",
        "imlec.execute(\"\"\"UPDATE ogrenciler SET puan=puan+5 \"\"\")"
      ],
      "execution_count": null,
      "outputs": [
        {
          "output_type": "execute_result",
          "data": {
            "text/plain": [
              "<sqlite3.Cursor at 0x7fb7a0814ce0>"
            ]
          },
          "metadata": {},
          "execution_count": 104
        }
      ]
    },
    {
      "cell_type": "code",
      "metadata": {
        "colab": {
          "base_uri": "https://localhost:8080/"
        },
        "id": "8w0fa1Vsrwbh",
        "outputId": "7cc97ee1-3ec3-4452-fff3-f842b247a2dd"
      },
      "source": [
        "# DELETE ile veri silme işlemi\n",
        "# DELETE FROM tablo_adi WHERE koşul\n",
        "imlec.execute(\"\"\"DELETE FROM ogrenciler WHERE ogr_bolum = 'Bilgisayar Mühendisliği' \"\"\")\n"
      ],
      "execution_count": null,
      "outputs": [
        {
          "output_type": "execute_result",
          "data": {
            "text/plain": [
              "<sqlite3.Cursor at 0x7fb7a0814ce0>"
            ]
          },
          "metadata": {},
          "execution_count": 106
        }
      ]
    },
    {
      "cell_type": "code",
      "metadata": {
        "colab": {
          "base_uri": "https://localhost:8080/"
        },
        "id": "ZrdI93bc7oiE",
        "outputId": "aa1b63c9-c1a6-4576-d306-d043454d04ae"
      },
      "source": [
        "# Adı K harfi ile başlayan öğrencileri silin\n",
        "imlec.execute(\"\"\"DELETE FROM ogrenciler WHERE ogr_adi like \"%e%\" \"\"\")"
      ],
      "execution_count": null,
      "outputs": [
        {
          "output_type": "execute_result",
          "data": {
            "text/plain": [
              "<sqlite3.Cursor at 0x7fb7a0814ce0>"
            ]
          },
          "metadata": {},
          "execution_count": 112
        }
      ]
    },
    {
      "cell_type": "code",
      "metadata": {
        "colab": {
          "base_uri": "https://localhost:8080/"
        },
        "id": "nx5mPLXm8Gek",
        "outputId": "1374bc56-9e31-4568-a41b-bed2bd970a67"
      },
      "source": [
        "# Tüm tabloyu sil\n",
        "imlec.execute(\"\"\"DELETE FROM ogrenciler\"\"\")"
      ],
      "execution_count": null,
      "outputs": [
        {
          "output_type": "execute_result",
          "data": {
            "text/plain": [
              "<sqlite3.Cursor at 0x7fb7a0814ce0>"
            ]
          },
          "metadata": {},
          "execution_count": 114
        }
      ]
    },
    {
      "cell_type": "markdown",
      "metadata": {
        "id": "aoRwHTotN2bw"
      },
      "source": [
        "Tabloların Birleştirilmesi (Çoklu Tablo)"
      ]
    },
    {
      "cell_type": "code",
      "metadata": {
        "id": "DjqG_0bp85LE",
        "colab": {
          "base_uri": "https://localhost:8080/"
        },
        "outputId": "cc7a41f1-4c2d-4e32-8225-627a0f357ee4"
      },
      "source": [
        "# CREATE TABLE IF NOT EXISTS      eğer tablo mevcut değil ise oluştur\n",
        "imlec.execute(\"\"\"CREATE TABLE IF NOT EXISTS ders (no INTEGER ,ders_adi TEXT)\"\"\")"
      ],
      "execution_count": 12,
      "outputs": [
        {
          "output_type": "execute_result",
          "data": {
            "text/plain": [
              "<sqlite3.Cursor at 0x7f4b31c01ea0>"
            ]
          },
          "metadata": {},
          "execution_count": 12
        }
      ]
    },
    {
      "cell_type": "code",
      "metadata": {
        "colab": {
          "base_uri": "https://localhost:8080/"
        },
        "id": "dZ51rgysOm_S",
        "outputId": "ce3df5c4-3c30-402d-ffb0-5465a2e99d4b"
      },
      "source": [
        "# INSERT tabloya kayıt ekleme\n",
        "imlec.execute(\"\"\"INSERT INTO ders values (54, \"Python\")\"\"\")\n"
      ],
      "execution_count": 13,
      "outputs": [
        {
          "output_type": "execute_result",
          "data": {
            "text/plain": [
              "<sqlite3.Cursor at 0x7f4b31c01ea0>"
            ]
          },
          "metadata": {},
          "execution_count": 13
        }
      ]
    },
    {
      "cell_type": "code",
      "metadata": {
        "id": "njtN0Ot2PKDX"
      },
      "source": [
        "sqlifadesi=(\"\"\"INSERT INTO ders (no, ders_adi) VALUES(?, ?) \"\"\")"
      ],
      "execution_count": 14,
      "outputs": []
    },
    {
      "cell_type": "code",
      "metadata": {
        "colab": {
          "base_uri": "https://localhost:8080/"
        },
        "id": "t2YXS1UnQSl7",
        "outputId": "c4616cfc-9cbe-4d21-d541-573ebfb88d1f"
      },
      "source": [
        "numara=int(input(\"Öğrenci No: \"))\n",
        "ders_adi=input(\"Ders Adi: \")"
      ],
      "execution_count": 15,
      "outputs": [
        {
          "name": "stdout",
          "output_type": "stream",
          "text": [
            "Öğrenci No: 39\n",
            "Ders Adi: veri\n"
          ]
        }
      ]
    },
    {
      "cell_type": "code",
      "metadata": {
        "id": "qsdKtjDUQlZO"
      },
      "source": [
        "sqldeger=(numara, ders_adi)"
      ],
      "execution_count": 16,
      "outputs": []
    },
    {
      "cell_type": "code",
      "metadata": {
        "colab": {
          "base_uri": "https://localhost:8080/"
        },
        "id": "aBzNpv75RGVg",
        "outputId": "fe112f28-af4f-4772-f85a-e46e1f885fe8"
      },
      "source": [
        "imlec.execute(sqlifadesi,sqldeger)"
      ],
      "execution_count": 17,
      "outputs": [
        {
          "output_type": "execute_result",
          "data": {
            "text/plain": [
              "<sqlite3.Cursor at 0x7f4b31c01ea0>"
            ]
          },
          "metadata": {},
          "execution_count": 17
        }
      ]
    },
    {
      "cell_type": "code",
      "metadata": {
        "colab": {
          "base_uri": "https://localhost:8080/"
        },
        "id": "0W2oYtcuRT8W",
        "outputId": "b7c2e3cd-c2f9-4255-9696-f630f3890ae2"
      },
      "source": [
        "imlec.execute(\"\"\"SELECT *FROM ders\"\"\")\n",
        "dersler = imlec.fetchall()\n",
        " \n",
        "for ders in dersler:\n",
        "    print(ders)"
      ],
      "execution_count": 18,
      "outputs": [
        {
          "output_type": "stream",
          "name": "stdout",
          "text": [
            "(54, 'Python')\n",
            "(39, 'veri')\n"
          ]
        }
      ]
    },
    {
      "cell_type": "code",
      "metadata": {
        "colab": {
          "base_uri": "https://localhost:8080/"
        },
        "id": "j9xo4oLSSj9D",
        "outputId": "7ee63456-7771-43de-97b8-e576729340b6"
      },
      "source": [
        "# Tablo birleştirme\n",
        "imlec.execute(\"\"\"SELECT *FROM ogrenciler, ders where ogrenciler.ogr_no = ders.no\"\"\")\n",
        "oku = imlec.fetchall()\n",
        " \n",
        "for i in oku:\n",
        "    print(i)"
      ],
      "execution_count": 19,
      "outputs": [
        {
          "output_type": "stream",
          "name": "stdout",
          "text": [
            "(54, 'Arda', 'TUNCA', 'Bilgisayar Mühendisliği', 45, 54, 'Python')\n",
            "(39, 'Ceylin', 'Bylms', 'Yazılım Mühendisliği', 75, 39, 'veri')\n"
          ]
        }
      ]
    },
    {
      "cell_type": "code",
      "metadata": {
        "colab": {
          "base_uri": "https://localhost:8080/"
        },
        "id": "xMv7c0zWTQTd",
        "outputId": "e73594eb-8972-4e67-c356-ab5f33636ac2"
      },
      "source": [
        "# Alias Kullanma   as  \n",
        "# Sütun ya da tablolara kullanıcıların yeni (kısaltma, anlaşılır) isim verme işlemi\n",
        "imlec.execute(\"\"\"SELECT ogr.ogr_no, ogr.ogr_adi, ogr.ogr_bolum, d.ders_adi FROM ogrenciler as ogr, ders as d where ogr.ogr_no = d.no\"\"\")\n",
        "oku = imlec.fetchall()\n",
        " \n",
        "for i in oku:\n",
        "    print(i)"
      ],
      "execution_count": null,
      "outputs": [
        {
          "output_type": "stream",
          "name": "stdout",
          "text": [
            "(54, 'Arda', 'Bilgisayar Mühendisliği', 'Pythonn')\n",
            "(22, 'Ceren', 'Bilgisayar Mühendisliği', 'Python')\n"
          ]
        }
      ]
    },
    {
      "cell_type": "code",
      "metadata": {
        "colab": {
          "base_uri": "https://localhost:8080/"
        },
        "id": "a1OViHz9UGN6",
        "outputId": "4a6f6d00-d1f0-41aa-a8b2-8122d76bc006"
      },
      "source": [
        "# İç içe SQL (nested SQL)\n",
        "imlec.execute(\"\"\"SELECT *FROM ogrenciler where ogr_no IN (SELECT no FROM ders where  no>25)\"\"\")\n",
        "oku = imlec.fetchall()\n",
        " \n",
        "for i in oku:\n",
        "    print(i)"
      ],
      "execution_count": null,
      "outputs": [
        {
          "output_type": "stream",
          "name": "stdout",
          "text": [
            "(54, 'Arda', 'TUNCA', 'Bilgisayar Mühendisliği', 45)\n"
          ]
        }
      ]
    },
    {
      "cell_type": "code",
      "metadata": {
        "id": "Bn3uRsZEVyLz"
      },
      "source": [
        ""
      ],
      "execution_count": null,
      "outputs": []
    }
  ]
}